{
 "cells": [
  {
   "cell_type": "markdown",
   "metadata": {},
   "source": [
    "\n",
    "<img src=\"../../img/ods_stickers.jpg\">\n",
    "\n",
    "## <center> [mlcourse.ai](https://mlcourse.ai) – открытый курс OpenDataScience по машинному обучению \n",
    "    \n",
    "Автор материала: Екатерина Демидова, Data Scientist @ Segmento. Материал распространяется на условиях лицензии [Creative Commons CC BY-NC-SA 4.0](https://creativecommons.org/licenses/by-nc-sa/4.0/). Можно использовать в любых целях (редактировать, поправлять и брать за основу), кроме коммерческих, но с обязательным упоминанием автора материала.\n",
    "Автор материала: "
   ]
  },
  {
   "cell_type": "markdown",
   "metadata": {},
   "source": [
    "# <center>Домашнее задание № 2 (демо). <br> Визуальный анализ данных о публикациях на Хабрахабре</center>\n",
    "\n",
    "**Заполните код в клетках и ответьте на вопросы в [веб-форме](https://docs.google.com/forms/d/1y8qj5iYpaVhczjWnZuHd5NRR_sdCGy3eTF5n-qPKknQ).**"
   ]
  },
  {
   "cell_type": "code",
   "execution_count": 1,
   "metadata": {},
   "outputs": [],
   "source": [
    "import pandas as pd\n",
    "\n",
    "%matplotlib inline\n",
    "import matplotlib.pyplot as plt\n",
    "import seaborn as sns\n",
    "\n",
    "import plotly.graph_objs as go"
   ]
  },
  {
   "cell_type": "markdown",
   "metadata": {},
   "source": [
    "## Загрузка и знакомство с данными\n",
    "\n",
    "Для работы вам понадобятся предобработанные данные нашего учебного конкурса на kaggle [«Прогноз популярности статьи на Хабре»](https://www.kaggle.com/c/howpop-habrahabr-favs). Скачайте [данные](https://drive.google.com/file/d/1nV2qV9otN3LnVSDqy95hvpJdb6aWtATk/view?usp=sharing) соревнования (данные были удалены с Kaggle ради организации последующего идентичного соревнования, так что тут ссылка на Google Drive)."
   ]
  },
  {
   "cell_type": "code",
   "execution_count": 2,
   "metadata": {},
   "outputs": [],
   "source": [
    "# При необходимости поменяйте путь к данным\n",
    "df = pd.read_csv(\"data/howpop_train.csv\")"
   ]
  },
  {
   "cell_type": "code",
   "execution_count": 3,
   "metadata": {},
   "outputs": [
    {
     "data": {
      "text/plain": [
       "(134137, 17)"
      ]
     },
     "execution_count": 3,
     "metadata": {},
     "output_type": "execute_result"
    }
   ],
   "source": [
    "df.shape"
   ]
  },
  {
   "cell_type": "code",
   "execution_count": 4,
   "metadata": {},
   "outputs": [
    {
     "data": {
      "text/html": [
       "<div>\n",
       "<style scoped>\n",
       "    .dataframe tbody tr th:only-of-type {\n",
       "        vertical-align: middle;\n",
       "    }\n",
       "\n",
       "    .dataframe tbody tr th {\n",
       "        vertical-align: top;\n",
       "    }\n",
       "\n",
       "    .dataframe thead th {\n",
       "        text-align: right;\n",
       "    }\n",
       "</style>\n",
       "<table border=\"1\" class=\"dataframe\">\n",
       "  <thead>\n",
       "    <tr style=\"text-align: right;\">\n",
       "      <th></th>\n",
       "      <th>0</th>\n",
       "      <th>1</th>\n",
       "      <th>2</th>\n",
       "    </tr>\n",
       "  </thead>\n",
       "  <tbody>\n",
       "    <tr>\n",
       "      <th>url</th>\n",
       "      <td>https://habrahabr.ru/post/18284/</td>\n",
       "      <td>https://habrahabr.ru/post/18285/</td>\n",
       "      <td>https://habrahabr.ru/post/18286/</td>\n",
       "    </tr>\n",
       "    <tr>\n",
       "      <th>domain</th>\n",
       "      <td>habrahabr.ru</td>\n",
       "      <td>habrahabr.ru</td>\n",
       "      <td>habrahabr.ru</td>\n",
       "    </tr>\n",
       "    <tr>\n",
       "      <th>post_id</th>\n",
       "      <td>18284</td>\n",
       "      <td>18285</td>\n",
       "      <td>18286</td>\n",
       "    </tr>\n",
       "    <tr>\n",
       "      <th>published</th>\n",
       "      <td>2008-01-01 18:19:00</td>\n",
       "      <td>2008-01-01 18:30:00</td>\n",
       "      <td>2008-01-01 18:34:00</td>\n",
       "    </tr>\n",
       "    <tr>\n",
       "      <th>author</th>\n",
       "      <td>@Tapac</td>\n",
       "      <td>@DezmASter</td>\n",
       "      <td>@DezmASter</td>\n",
       "    </tr>\n",
       "    <tr>\n",
       "      <th>flow</th>\n",
       "      <td>develop</td>\n",
       "      <td>design</td>\n",
       "      <td>design</td>\n",
       "    </tr>\n",
       "    <tr>\n",
       "      <th>polling</th>\n",
       "      <td>False</td>\n",
       "      <td>False</td>\n",
       "      <td>False</td>\n",
       "    </tr>\n",
       "    <tr>\n",
       "      <th>content_len</th>\n",
       "      <td>4305</td>\n",
       "      <td>7344</td>\n",
       "      <td>8431</td>\n",
       "    </tr>\n",
       "    <tr>\n",
       "      <th>title</th>\n",
       "      <td>Новогодний подарок блоггерам — WordPress 2.3.2</td>\n",
       "      <td>Сумасшедшие яйца, или сервис для отслеживания ...</td>\n",
       "      <td>Сумасшедшие яйца, или сервис для отслеживания ...</td>\n",
       "    </tr>\n",
       "    <tr>\n",
       "      <th>comments</th>\n",
       "      <td>0</td>\n",
       "      <td>1</td>\n",
       "      <td>47</td>\n",
       "    </tr>\n",
       "    <tr>\n",
       "      <th>favs</th>\n",
       "      <td>0</td>\n",
       "      <td>1</td>\n",
       "      <td>72</td>\n",
       "    </tr>\n",
       "    <tr>\n",
       "      <th>views</th>\n",
       "      <td>236</td>\n",
       "      <td>353</td>\n",
       "      <td>1200</td>\n",
       "    </tr>\n",
       "    <tr>\n",
       "      <th>votes_plus</th>\n",
       "      <td>0.0</td>\n",
       "      <td>1.0</td>\n",
       "      <td>45.0</td>\n",
       "    </tr>\n",
       "    <tr>\n",
       "      <th>votes_minus</th>\n",
       "      <td>0.0</td>\n",
       "      <td>0.0</td>\n",
       "      <td>5.0</td>\n",
       "    </tr>\n",
       "    <tr>\n",
       "      <th>views_lognorm</th>\n",
       "      <td>-0.792687</td>\n",
       "      <td>-0.485214</td>\n",
       "      <td>0.44609</td>\n",
       "    </tr>\n",
       "    <tr>\n",
       "      <th>favs_lognorm</th>\n",
       "      <td>-1.344075</td>\n",
       "      <td>-0.831946</td>\n",
       "      <td>1.794023</td>\n",
       "    </tr>\n",
       "    <tr>\n",
       "      <th>comments_lognorm</th>\n",
       "      <td>-2.436871</td>\n",
       "      <td>-1.873193</td>\n",
       "      <td>0.574656</td>\n",
       "    </tr>\n",
       "  </tbody>\n",
       "</table>\n",
       "</div>"
      ],
      "text/plain": [
       "                                                               0  \\\n",
       "url                             https://habrahabr.ru/post/18284/   \n",
       "domain                                              habrahabr.ru   \n",
       "post_id                                                    18284   \n",
       "published                                    2008-01-01 18:19:00   \n",
       "author                                                    @Tapac   \n",
       "flow                                                     develop   \n",
       "polling                                                    False   \n",
       "content_len                                                 4305   \n",
       "title             Новогодний подарок блоггерам — WordPress 2.3.2   \n",
       "comments                                                       0   \n",
       "favs                                                           0   \n",
       "views                                                        236   \n",
       "votes_plus                                                   0.0   \n",
       "votes_minus                                                  0.0   \n",
       "views_lognorm                                          -0.792687   \n",
       "favs_lognorm                                           -1.344075   \n",
       "comments_lognorm                                       -2.436871   \n",
       "\n",
       "                                                                  1  \\\n",
       "url                                https://habrahabr.ru/post/18285/   \n",
       "domain                                                 habrahabr.ru   \n",
       "post_id                                                       18285   \n",
       "published                                       2008-01-01 18:30:00   \n",
       "author                                                   @DezmASter   \n",
       "flow                                                         design   \n",
       "polling                                                       False   \n",
       "content_len                                                    7344   \n",
       "title             Сумасшедшие яйца, или сервис для отслеживания ...   \n",
       "comments                                                          1   \n",
       "favs                                                              1   \n",
       "views                                                           353   \n",
       "votes_plus                                                      1.0   \n",
       "votes_minus                                                     0.0   \n",
       "views_lognorm                                             -0.485214   \n",
       "favs_lognorm                                              -0.831946   \n",
       "comments_lognorm                                          -1.873193   \n",
       "\n",
       "                                                                  2  \n",
       "url                                https://habrahabr.ru/post/18286/  \n",
       "domain                                                 habrahabr.ru  \n",
       "post_id                                                       18286  \n",
       "published                                       2008-01-01 18:34:00  \n",
       "author                                                   @DezmASter  \n",
       "flow                                                         design  \n",
       "polling                                                       False  \n",
       "content_len                                                    8431  \n",
       "title             Сумасшедшие яйца, или сервис для отслеживания ...  \n",
       "comments                                                         47  \n",
       "favs                                                             72  \n",
       "views                                                          1200  \n",
       "votes_plus                                                     45.0  \n",
       "votes_minus                                                     5.0  \n",
       "views_lognorm                                               0.44609  \n",
       "favs_lognorm                                               1.794023  \n",
       "comments_lognorm                                           0.574656  "
      ]
     },
     "execution_count": 4,
     "metadata": {},
     "output_type": "execute_result"
    }
   ],
   "source": [
    "df.head(3).T"
   ]
  },
  {
   "cell_type": "markdown",
   "metadata": {},
   "source": [
    "Избавимся сразу от переменных, названия которых заканчиваются на `_lognorm` (нужны для соревнования на Kaggle). Выберем их с помощью `filter()` и удалим `drop`-ом:"
   ]
  },
  {
   "cell_type": "code",
   "execution_count": 5,
   "metadata": {},
   "outputs": [],
   "source": [
    "# Избавляет от необходимости сохранять датасет\n",
    "df.drop(\n",
    "    filter(lambda c: c.endswith(\"_lognorm\"), df.columns),\n",
    "    axis=1,  # axis = 1: столбцы\n",
    "    inplace=True,\n",
    ")  "
   ]
  },
  {
   "cell_type": "code",
   "execution_count": 6,
   "metadata": {},
   "outputs": [
    {
     "data": {
      "text/html": [
       "<div>\n",
       "<style scoped>\n",
       "    .dataframe tbody tr th:only-of-type {\n",
       "        vertical-align: middle;\n",
       "    }\n",
       "\n",
       "    .dataframe tbody tr th {\n",
       "        vertical-align: top;\n",
       "    }\n",
       "\n",
       "    .dataframe thead th {\n",
       "        text-align: right;\n",
       "    }\n",
       "</style>\n",
       "<table border=\"1\" class=\"dataframe\">\n",
       "  <thead>\n",
       "    <tr style=\"text-align: right;\">\n",
       "      <th></th>\n",
       "      <th>count</th>\n",
       "      <th>mean</th>\n",
       "      <th>std</th>\n",
       "      <th>min</th>\n",
       "      <th>25%</th>\n",
       "      <th>50%</th>\n",
       "      <th>75%</th>\n",
       "      <th>max</th>\n",
       "    </tr>\n",
       "  </thead>\n",
       "  <tbody>\n",
       "    <tr>\n",
       "      <th>post_id</th>\n",
       "      <td>134137.0</td>\n",
       "      <td>181307.054265</td>\n",
       "      <td>81766.350702</td>\n",
       "      <td>18284.0</td>\n",
       "      <td>115565.0</td>\n",
       "      <td>182666.0</td>\n",
       "      <td>257401.0</td>\n",
       "      <td>314088.0</td>\n",
       "    </tr>\n",
       "    <tr>\n",
       "      <th>content_len</th>\n",
       "      <td>134137.0</td>\n",
       "      <td>7516.929699</td>\n",
       "      <td>8724.771640</td>\n",
       "      <td>1.0</td>\n",
       "      <td>2179.0</td>\n",
       "      <td>4949.0</td>\n",
       "      <td>9858.0</td>\n",
       "      <td>352471.0</td>\n",
       "    </tr>\n",
       "    <tr>\n",
       "      <th>comments</th>\n",
       "      <td>134137.0</td>\n",
       "      <td>39.625994</td>\n",
       "      <td>62.398958</td>\n",
       "      <td>0.0</td>\n",
       "      <td>7.0</td>\n",
       "      <td>19.0</td>\n",
       "      <td>48.0</td>\n",
       "      <td>2266.0</td>\n",
       "    </tr>\n",
       "    <tr>\n",
       "      <th>favs</th>\n",
       "      <td>134137.0</td>\n",
       "      <td>71.999866</td>\n",
       "      <td>145.854135</td>\n",
       "      <td>0.0</td>\n",
       "      <td>8.0</td>\n",
       "      <td>27.0</td>\n",
       "      <td>78.0</td>\n",
       "      <td>8718.0</td>\n",
       "    </tr>\n",
       "    <tr>\n",
       "      <th>views</th>\n",
       "      <td>134137.0</td>\n",
       "      <td>16631.013084</td>\n",
       "      <td>31479.819691</td>\n",
       "      <td>3.0</td>\n",
       "      <td>2100.0</td>\n",
       "      <td>7600.0</td>\n",
       "      <td>18700.0</td>\n",
       "      <td>1730000.0</td>\n",
       "    </tr>\n",
       "    <tr>\n",
       "      <th>votes_plus</th>\n",
       "      <td>133566.0</td>\n",
       "      <td>35.536888</td>\n",
       "      <td>42.461073</td>\n",
       "      <td>0.0</td>\n",
       "      <td>11.0</td>\n",
       "      <td>22.0</td>\n",
       "      <td>45.0</td>\n",
       "      <td>1466.0</td>\n",
       "    </tr>\n",
       "    <tr>\n",
       "      <th>votes_minus</th>\n",
       "      <td>133566.0</td>\n",
       "      <td>8.050035</td>\n",
       "      <td>11.398282</td>\n",
       "      <td>0.0</td>\n",
       "      <td>2.0</td>\n",
       "      <td>5.0</td>\n",
       "      <td>10.0</td>\n",
       "      <td>445.0</td>\n",
       "    </tr>\n",
       "  </tbody>\n",
       "</table>\n",
       "</div>"
      ],
      "text/plain": [
       "                count           mean           std      min       25%  \\\n",
       "post_id      134137.0  181307.054265  81766.350702  18284.0  115565.0   \n",
       "content_len  134137.0    7516.929699   8724.771640      1.0    2179.0   \n",
       "comments     134137.0      39.625994     62.398958      0.0       7.0   \n",
       "favs         134137.0      71.999866    145.854135      0.0       8.0   \n",
       "views        134137.0   16631.013084  31479.819691      3.0    2100.0   \n",
       "votes_plus   133566.0      35.536888     42.461073      0.0      11.0   \n",
       "votes_minus  133566.0       8.050035     11.398282      0.0       2.0   \n",
       "\n",
       "                  50%       75%        max  \n",
       "post_id      182666.0  257401.0   314088.0  \n",
       "content_len    4949.0    9858.0   352471.0  \n",
       "comments         19.0      48.0     2266.0  \n",
       "favs             27.0      78.0     8718.0  \n",
       "views          7600.0   18700.0  1730000.0  \n",
       "votes_plus       22.0      45.0     1466.0  \n",
       "votes_minus       5.0      10.0      445.0  "
      ]
     },
     "execution_count": 6,
     "metadata": {},
     "output_type": "execute_result"
    }
   ],
   "source": [
    "df.describe().T"
   ]
  },
  {
   "cell_type": "code",
   "execution_count": 7,
   "metadata": {},
   "outputs": [
    {
     "data": {
      "text/html": [
       "<div>\n",
       "<style scoped>\n",
       "    .dataframe tbody tr th:only-of-type {\n",
       "        vertical-align: middle;\n",
       "    }\n",
       "\n",
       "    .dataframe tbody tr th {\n",
       "        vertical-align: top;\n",
       "    }\n",
       "\n",
       "    .dataframe thead th {\n",
       "        text-align: right;\n",
       "    }\n",
       "</style>\n",
       "<table border=\"1\" class=\"dataframe\">\n",
       "  <thead>\n",
       "    <tr style=\"text-align: right;\">\n",
       "      <th></th>\n",
       "      <th>count</th>\n",
       "      <th>unique</th>\n",
       "      <th>top</th>\n",
       "      <th>freq</th>\n",
       "    </tr>\n",
       "  </thead>\n",
       "  <tbody>\n",
       "    <tr>\n",
       "      <th>url</th>\n",
       "      <td>134137</td>\n",
       "      <td>134137</td>\n",
       "      <td>https://habrahabr.ru/post/283482/</td>\n",
       "      <td>1</td>\n",
       "    </tr>\n",
       "    <tr>\n",
       "      <th>domain</th>\n",
       "      <td>134137</td>\n",
       "      <td>2</td>\n",
       "      <td>habrahabr.ru</td>\n",
       "      <td>97048</td>\n",
       "    </tr>\n",
       "    <tr>\n",
       "      <th>published</th>\n",
       "      <td>134137</td>\n",
       "      <td>130291</td>\n",
       "      <td>2011-06-14 15:52:00</td>\n",
       "      <td>39</td>\n",
       "    </tr>\n",
       "    <tr>\n",
       "      <th>author</th>\n",
       "      <td>97657</td>\n",
       "      <td>22077</td>\n",
       "      <td>@alizar</td>\n",
       "      <td>5292</td>\n",
       "    </tr>\n",
       "    <tr>\n",
       "      <th>flow</th>\n",
       "      <td>97048</td>\n",
       "      <td>6</td>\n",
       "      <td>develop</td>\n",
       "      <td>53318</td>\n",
       "    </tr>\n",
       "    <tr>\n",
       "      <th>polling</th>\n",
       "      <td>134137</td>\n",
       "      <td>2</td>\n",
       "      <td>False</td>\n",
       "      <td>129412</td>\n",
       "    </tr>\n",
       "    <tr>\n",
       "      <th>title</th>\n",
       "      <td>134137</td>\n",
       "      <td>133628</td>\n",
       "      <td>Интересные события, произошедшие в выходные</td>\n",
       "      <td>56</td>\n",
       "    </tr>\n",
       "  </tbody>\n",
       "</table>\n",
       "</div>"
      ],
      "text/plain": [
       "            count  unique                                          top    freq\n",
       "url        134137  134137            https://habrahabr.ru/post/283482/       1\n",
       "domain     134137       2                                 habrahabr.ru   97048\n",
       "published  134137  130291                          2011-06-14 15:52:00      39\n",
       "author      97657   22077                                      @alizar    5292\n",
       "flow        97048       6                                      develop   53318\n",
       "polling    134137       2                                        False  129412\n",
       "title      134137  133628  Интересные события, произошедшие в выходные      56"
      ]
     },
     "execution_count": 7,
     "metadata": {},
     "output_type": "execute_result"
    }
   ],
   "source": [
    "# Бинарные и категориальные переменные\n",
    "df.describe(include=[\"object\", \"bool\"]).T  "
   ]
  },
  {
   "cell_type": "code",
   "execution_count": 8,
   "metadata": {},
   "outputs": [],
   "source": [
    "# Настройка внешнего вида графиков в seaborn\n",
    "sns.set_style(\"dark\")\n",
    "sns.set_palette(\"RdBu\")\n",
    "sns.set_context(\n",
    "    \"notebook\", font_scale=1.5, rc={\"figure.figsize\": (30, 10), \"axes.titlesize\": 14}\n",
    ")\n",
    "\n",
    "from pylab import rcParams\n",
    "rcParams['figure.figsize'] = 8, 5"
   ]
  },
  {
   "cell_type": "markdown",
   "metadata": {},
   "source": [
    "Столбец **`published`** (время публикации) содержит строки. Чтобы мы могли работать с этими данными как с датой/временем публикации, приведём их к типу `datetime`:"
   ]
  },
  {
   "cell_type": "code",
   "execution_count": 9,
   "metadata": {},
   "outputs": [
    {
     "name": "stdout",
     "output_type": "stream",
     "text": [
      "object\n",
      "datetime64[ns]\n"
     ]
    }
   ],
   "source": [
    "print(df.published.dtype)\n",
    "df[\"published\"] = pd.to_datetime(df.published, yearfirst=True)\n",
    "print(df.published.dtype)"
   ]
  },
  {
   "cell_type": "markdown",
   "metadata": {},
   "source": [
    "Создадим несколько столбцов на основе данных о времени публикации:"
   ]
  },
  {
   "cell_type": "code",
   "execution_count": 10,
   "metadata": {},
   "outputs": [],
   "source": [
    "# Наводим суету в датасете\n",
    "df[\"year\"] = [d.year for d in df.published]\n",
    "df[\"month\"] = [d.month for d in df.published]\n",
    "df[\"dayofweek\"] = [d.isoweekday() for d in df.published]\n",
    "df[\"hour\"] = [d.hour for d in df.published]\n",
    "df[\"day\"] = [d.day for d in df.published]"
   ]
  },
  {
   "cell_type": "markdown",
   "metadata": {},
   "source": [
    "-----\n",
    "Теперь Ваша очередь. В каждом пункте предлагается построить картинку и с ее помощью ответить на вопрос в [форме](https://docs.google.com/forms/d/e/1FAIpQLSf3b5OG8zX_nLQBQ-t20c6M5Auz-VUL-yxj8Fm9_o_XWDBTrg/viewform?c=0&w=1). Конечно, можно попытаться ответить на все вопросы только с Pandas, без картинок, но мы советуем Вам потренироваться строить (красивые) визуализации.   "
   ]
  },
  {
   "cell_type": "markdown",
   "metadata": {},
   "source": [
    "## 1\\. В каком месяце (и какого года) было больше всего публикаций?\n",
    "\n",
    "* март 2016\n",
    "* март 2015\n",
    "* апрель 2015\n",
    "* апрель 2016"
   ]
  },
  {
   "cell_type": "code",
   "execution_count": 11,
   "metadata": {},
   "outputs": [
    {
     "name": "stdout",
     "output_type": "stream",
     "text": [
      "[2189, 2110, 2115, 1910]\n"
     ]
    },
    {
     "data": {
      "image/png": "[encoded data removed]",
      "text/plain": [
       "<Figure size 576x360 with 1 Axes>"
      ]
     },
     "metadata": {},
     "output_type": "display_data"
    }
   ],
   "source": [
    "df_march = df[df['month']==3]\n",
    "df_april = df[df['month']==4]\n",
    "\n",
    "x = ['march 2015', 'april 2015', 'march 2016', 'april 2016']\n",
    "y = [len(df_march[df_march['year']==2015]), len(df_april[df_april['year']==2015]), \\\n",
    "     len(df_march[df_march['year']==2016]), len(df_april[df_april['year']==2016])]\n",
    "\n",
    "plt.bar(x,y)\n",
    "print(y)\n",
    "\n",
    "# Очевидно, март 2015"
   ]
  },
  {
   "cell_type": "markdown",
   "metadata": {},
   "source": [
    "## 2\\. Проанализируйте публикации в месяце из предыдущего вопроса\n",
    "\n",
    "Выберите один или несколько вариантов:\n",
    "\n",
    "* Один или несколько дней сильно выделяются из общей картины\n",
    "* На хабре _всегда_ больше статей, чем на гиктаймсе\n",
    "* По субботам на гиктаймс и на хабрахабр публикуют примерно одинаковое число статей\n",
    "\n",
    "Подсказки: постройте график зависимости числа публикаций от дня; используйте параметр `hue`; не заморачивайтесь сильно с ответами и не ищите скрытого смысла :)"
   ]
  },
  {
   "cell_type": "code",
   "execution_count": 12,
   "metadata": {},
   "outputs": [
    {
     "name": "stderr",
     "output_type": "stream",
     "text": [
      "C:\\Users\\nizov\\anaconda3\\lib\\site-packages\\seaborn\\_decorators.py:36: FutureWarning: Pass the following variable as a keyword arg: x. From version 0.12, the only valid positional argument will be `data`, and passing other arguments without an explicit keyword will result in an error or misinterpretation.\n",
      "  warnings.warn(\n"
     ]
    },
    {
     "data": {
      "text/plain": [
       "<AxesSubplot:>"
      ]
     },
     "execution_count": 12,
     "metadata": {},
     "output_type": "execute_result"
    },
    {
     "data": {
      "image/png": "[encoded data removed]",
      "text/plain": [
       "<Figure size 576x360 with 1 Axes>"
      ]
     },
     "metadata": {},
     "output_type": "display_data"
    }
   ],
   "source": [
    "ds1 = df_march[df_march['year']==2015]\n",
    "sns.boxplot(ds1.groupby('day').size())\n",
    "# То же самое но только чисто с пандой:\n",
    "# (ds1.groupby('day').size()).plot.box() \n",
    "\n",
    "# Судя по boxplot-у, выбросов (точек) нет."
   ]
  },
  {
   "cell_type": "code",
   "execution_count": 13,
   "metadata": {},
   "outputs": [
    {
     "data": {
      "image/png": "[encoded data removed]",
      "text/plain": [
       "<Figure size 576x360 with 1 Axes>"
      ]
     },
     "metadata": {},
     "output_type": "display_data"
    }
   ],
   "source": [
    "ds1['domain'].unique()\n",
    "ds1_grouped = ds1.groupby(['day', 'domain'], as_index=False).size()\n",
    "ax = sns.barplot(x='day', y='size', hue='domain', data=ds1_grouped)\n",
    "\n",
    "# Есть дни, когда у geektimes публикаций больше (например, 14 число)"
   ]
  },
  {
   "cell_type": "code",
   "execution_count": 14,
   "metadata": {},
   "outputs": [
    {
     "data": {
      "image/png": "[encoded data removed]",
      "text/plain": [
       "<Figure size 576x360 with 1 Axes>"
      ]
     },
     "metadata": {},
     "output_type": "display_data"
    }
   ],
   "source": [
    "sat_ds = ds1[ds1['dayofweek']==6]\n",
    "sat_pubs = sat_ds.groupby(['day','domain'], as_index=False).size()\n",
    "ax = sns.barplot(x='day', y='size', hue='domain', data=sat_pubs)\n",
    "\n",
    "# Да, по сб \"примерно\" одинаково (хотя для кого как, вообще-то)"
   ]
  },
  {
   "cell_type": "markdown",
   "metadata": {},
   "source": [
    "## 3\\. Когда лучше всего публиковать статью?\n",
    "\n",
    "* Больше всего просмотров набирают статьи, опубликованные в 12 часов дня\n",
    "* У опубликованных в 10 утра постов больше всего комментариев\n",
    "* Больше всего просмотров набирают статьи, опубликованные в 6 часов утра\n",
    "* Максимальное число комментариев на гиктаймсе набрала статья, опубликованная в 9 часов вечера\n",
    "* На хабре дневные статьи комментируют чаще, чем вечерние"
   ]
  },
  {
   "cell_type": "code",
   "execution_count": 15,
   "metadata": {},
   "outputs": [
    {
     "data": {
      "image/png": "[encoded data removed]",
      "text/plain": [
       "<Figure size 576x360 with 1 Axes>"
      ]
     },
     "metadata": {},
     "output_type": "display_data"
    }
   ],
   "source": [
    "ax1 = sns.barplot(x='hour', y='views', data=df)\n",
    "\n",
    "# Больше всего просмотров набирают статьи, опубликованные в 12 часов дня - нет\n",
    "# Больше всего просмотров набирают статьи, опубликованные в 6 часов утра - да"
   ]
  },
  {
   "cell_type": "code",
   "execution_count": 16,
   "metadata": {},
   "outputs": [
    {
     "data": {
      "image/png": "[encoded data removed]",
      "text/plain": [
       "<Figure size 576x360 with 1 Axes>"
      ]
     },
     "metadata": {},
     "output_type": "display_data"
    }
   ],
   "source": [
    "ax2 = sns.barplot(x='hour', y='comments', data=df)\n",
    "\n",
    "# У опубликованных в 10 утра постов больше всего комментариев - нет"
   ]
  },
  {
   "cell_type": "code",
   "execution_count": 17,
   "metadata": {},
   "outputs": [
    {
     "data": {
      "text/html": [
       "<div>\n",
       "<style scoped>\n",
       "    .dataframe tbody tr th:only-of-type {\n",
       "        vertical-align: middle;\n",
       "    }\n",
       "\n",
       "    .dataframe tbody tr th {\n",
       "        vertical-align: top;\n",
       "    }\n",
       "\n",
       "    .dataframe thead th {\n",
       "        text-align: right;\n",
       "    }\n",
       "</style>\n",
       "<table border=\"1\" class=\"dataframe\">\n",
       "  <thead>\n",
       "    <tr style=\"text-align: right;\">\n",
       "      <th></th>\n",
       "      <th>hour</th>\n",
       "    </tr>\n",
       "  </thead>\n",
       "  <tbody>\n",
       "    <tr>\n",
       "      <th>38763</th>\n",
       "      <td>2</td>\n",
       "    </tr>\n",
       "  </tbody>\n",
       "</table>\n",
       "</div>"
      ],
      "text/plain": [
       "       hour\n",
       "38763     2"
      ]
     },
     "execution_count": 17,
     "metadata": {},
     "output_type": "execute_result"
    }
   ],
   "source": [
    "df_geektimes = df[df['domain']=='geektimes.ru']\n",
    "max_comments_index = df_geektimes['comments'].idxmax()\n",
    "df_geektimes.loc[[max_comments_index], ['hour']]\n",
    "\n",
    "# Максимальное число комментариев на гиктаймсе набрала статья, опубликованная в 9 часов вечера - нет"
   ]
  },
  {
   "cell_type": "code",
   "execution_count": 18,
   "metadata": {},
   "outputs": [
    {
     "data": {
      "image/png": "[encoded data removed]",
      "text/plain": [
       "<Figure size 576x360 with 1 Axes>"
      ]
     },
     "metadata": {},
     "output_type": "display_data"
    }
   ],
   "source": [
    "df_habr = df[df['domain']=='habrahabr.ru']\n",
    "ax3 = sns.barplot(x='hour', y='comments', data=df_habr)\n",
    "\n",
    "# На хабре дневные статьи комментируют чаще, чем вечерние - нет"
   ]
  },
  {
   "cell_type": "markdown",
   "metadata": {},
   "source": [
    "## 4\\. Кого из топ-20 авторов (по числу статей) чаще всего минусуют?\n",
    "\n",
    "* @Mordatyj\n",
    "* @Mithgol\n",
    "* @alizar\n",
    "* @ilya42"
   ]
  },
  {
   "cell_type": "code",
   "execution_count": 21,
   "metadata": {},
   "outputs": [
    {
     "data": {
      "text/html": [
       "<div>\n",
       "<style scoped>\n",
       "    .dataframe tbody tr th:only-of-type {\n",
       "        vertical-align: middle;\n",
       "    }\n",
       "\n",
       "    .dataframe tbody tr th {\n",
       "        vertical-align: top;\n",
       "    }\n",
       "\n",
       "    .dataframe thead th {\n",
       "        text-align: right;\n",
       "    }\n",
       "</style>\n",
       "<table border=\"1\" class=\"dataframe\">\n",
       "  <thead>\n",
       "    <tr style=\"text-align: right;\">\n",
       "      <th></th>\n",
       "      <th>author</th>\n",
       "      <th>votes_minus</th>\n",
       "      <th>author1</th>\n",
       "      <th>size</th>\n",
       "      <th>freq</th>\n",
       "    </tr>\n",
       "  </thead>\n",
       "  <tbody>\n",
       "    <tr>\n",
       "      <th>5215</th>\n",
       "      <td>@Mithgol</td>\n",
       "      <td>11367.0</td>\n",
       "      <td>@Mithgol</td>\n",
       "      <td>560</td>\n",
       "      <td>20.298214</td>\n",
       "    </tr>\n",
       "  </tbody>\n",
       "</table>\n",
       "</div>"
      ],
      "text/plain": [
       "        author  votes_minus   author1  size       freq\n",
       "5215  @Mithgol      11367.0  @Mithgol   560  20.298214"
      ]
     },
     "execution_count": 21,
     "metadata": {},
     "output_type": "execute_result"
    }
   ],
   "source": [
    "# Выделяем топ самых популярных авторов\n",
    "df_author_top = df.groupby('author', as_index=False).size()\n",
    "df_author_top.sort_values('size', ascending=False, inplace=True)\n",
    "df_author_top20 = df_author_top.head(20)\n",
    "# Список этих 20 людей\n",
    "val_list = df_author_top20['author'].unique().tolist()\n",
    "\n",
    "# Сортируем авторов по дизлайкам\n",
    "df_author = df.groupby('author', as_index=False)[['votes_minus']].sum()\n",
    "\n",
    "# Делаем слияние - каждому автору из датафрейма с дизлайками приписываем количество его публикаций\n",
    "df_combined = df_author.join(df_author_top, rsuffix='1')\n",
    "# \"чаще всего минусуют\" - это сколько в среднем лайков на статью?\n",
    "df_combined['freq'] = df_combined['votes_minus']/df_combined['size']\n",
    "\n",
    "# Оставляем только людей из топ-20\n",
    "df_combined = df_combined[df_combined.author.isin(val_list)]\n",
    "df_combined.sort_values('freq', ascending=False, inplace=True)\n",
    "# Ответ\n",
    "df_combined.head(1)\n",
    "\n",
    "# Это @Mithgol"
   ]
  },
  {
   "cell_type": "markdown",
   "metadata": {},
   "source": [
    "## 5\\. Сравните субботы и понедельники\n",
    "\n",
    "Правда ли, что по субботам авторы пишут в основном днём, а по понедельникам — в основном вечером?"
   ]
  },
  {
   "cell_type": "code",
   "execution_count": 150,
   "metadata": {},
   "outputs": [],
   "source": [
    "df_sat = df[df['dayofweek']==6]\n",
    "df_mon = df[df['dayofweek']==1]"
   ]
  },
  {
   "cell_type": "code",
   "execution_count": 151,
   "metadata": {},
   "outputs": [
    {
     "data": {
      "image/png": "[encoded data removed]",
      "text/plain": [
       "<Figure size 576x360 with 1 Axes>"
      ]
     },
     "metadata": {},
     "output_type": "display_data"
    }
   ],
   "source": [
    "df_sat_count = df_sat.groupby('hour', as_index=False).size()\n",
    "ax3 = sns.barplot(x='hour', y='size', data=df_sat_count)"
   ]
  },
  {
   "cell_type": "code",
   "execution_count": 153,
   "metadata": {},
   "outputs": [
    {
     "data": {
      "image/png": "[encoded data removed]",
      "text/plain": [
       "<Figure size 576x360 with 1 Axes>"
      ]
     },
     "metadata": {},
     "output_type": "display_data"
    }
   ],
   "source": [
    "df_mon_count = df_mon.groupby('hour', as_index=False).size()\n",
    "ax4 = sns.barplot(x='hour', y='size', data=df_mon_count)"
   ]
  },
  {
   "cell_type": "code",
   "execution_count": null,
   "metadata": {},
   "outputs": [],
   "source": [
    "# Правда ли, что по субботам авторы пишут в основном днём, а по понедельникам — в основном вечером? - нет"
   ]
  }
 ],
 "metadata": {
  "kernelspec": {
   "display_name": "Python 3",
   "language": "python",
   "name": "python3"
  },
  "language_info": {
   "codemirror_mode": {
    "name": "ipython",
    "version": 3
   },
   "file_extension": ".py",
   "mimetype": "text/x-python",
   "name": "python",
   "nbconvert_exporter": "python",
   "pygments_lexer": "ipython3",
   "version": "3.8.5"
  }
 },
 "nbformat": 4,
 "nbformat_minor": 4
}
